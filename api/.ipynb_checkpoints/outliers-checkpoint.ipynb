{
 "cells": [
  {
   "cell_type": "code",
   "execution_count": 1,
   "metadata": {},
   "outputs": [],
   "source": [
    "'''\n",
    "    This notebooks contains data pipeline for processing given data frame and searching for outliers.\n",
    "    Remark 1. I've not tried to achieve the maximum performance and expressed pipeline in \n",
    "    functional style (a set of functions with immutable arguments).\n",
    "    Remark 2. I've not tried to dive deep into physical meaning of the given data frame and selected\n",
    "    all the numerical columns to find the outliers.\n",
    "    Remark 3. There are multiple approaches to find the anomalies in data and definte the outliers.\n",
    "    I've chosed the most familiar one -- to consider outliers as values that satisfy 3*sigma rule\n",
    "    (lie in the tail of the normal distribution). Searching the outliers in the case of multiple \n",
    "    columns is reduced to the single column case by mean of the normalized values of thin columns.\n",
    "'''\n",
    "import numpy, pandas\n",
    "from scipy import stats"
   ]
  },
  {
   "cell_type": "code",
   "execution_count": 2,
   "metadata": {},
   "outputs": [],
   "source": [
    "def load(fname):\n",
    "    '''\n",
    "    Loads dataframe with name 'fname' from hard drive and returns it.\n",
    "    '''\n",
    "    output = pandas.read_csv(fname, index_col=0, parse_dates=True)\n",
    "    return output"
   ]
  },
  {
   "cell_type": "code",
   "execution_count": 3,
   "metadata": {},
   "outputs": [],
   "source": [
    "def parse(input, columns):\n",
    "    '''\n",
    "    Parses the dataframe 'input' by selecting the given column names 'columns' and converting them to floats\n",
    "    '''\n",
    "    to_float = lambda val: float(val[1:].replace(',', ''))\n",
    "    numeric = input[columns]\n",
    "    output = numeric.copy()\n",
    "    for column in output.columns:\n",
    "        output[column] = numeric[column].apply(to_float)\n",
    "    return output"
   ]
  },
  {
   "cell_type": "code",
   "execution_count": 4,
   "metadata": {},
   "outputs": [],
   "source": [
    "def normlz(input):\n",
    "    '''\n",
    "        Normalizes the dataframe 'input' and return it.\n",
    "    '''\n",
    "    output = input.copy()\n",
    "    for column in input.columns:\n",
    "        max_value = input[column].max()\n",
    "        min_value = input[column].min()\n",
    "        output[column] = (input[column] - min_value) / (max_value - min_value)\n",
    "    return output"
   ]
  },
  {
   "cell_type": "code",
   "execution_count": 5,
   "metadata": {},
   "outputs": [],
   "source": [
    "def sieve(input):\n",
    "    aggred = input.mean(axis=1)\n",
    "    zscores = numpy.abs(stats.zscore(aggred))\n",
    "    output = numpy.where(zscores > 3)[0]\n",
    "    return output"
   ]
  },
  {
   "cell_type": "code",
   "execution_count": null,
   "metadata": {},
   "outputs": [],
   "source": [
    "def run():\n",
    "    '''\n",
    "    Executes the pipeline code that consist of the following steps:\n",
    "    1. definition numerical columns list with dollar sign prefixed values where the outliers will be searched for;\n",
    "    2. loading the dataframe from hard drive;\n",
    "    3. parsing the dataframe by selecting the given column and converting the values to float data type;\n",
    "    4. getting the outlier indices by applying sieve function;\n",
    "    5. saving subdataframe with outlier rows from the original dataframe to hard drive.\n",
    "    '''\n",
    "    columns = ['plan_premium', 'reinsurance', 'rx', 'rx_with_rebates', 'rx_without_rebates', 'spec_cap']\n",
    "    loaded = load('data1.csv')\n",
    "    parsed = parse(loaded, columns)\n",
    "    normlzed = normlz(parsed)\n",
    "    outliers = sieve(normlzed)\n",
    "    loaded.iloc[outliers].to_csv('outliers.csv')"
   ]
  }
 ],
 "metadata": {
  "kernelspec": {
   "display_name": "Python 3",
   "language": "python",
   "name": "python3"
  },
  "language_info": {
   "codemirror_mode": {
    "name": "ipython",
    "version": 3
   },
   "file_extension": ".py",
   "mimetype": "text/x-python",
   "name": "python",
   "nbconvert_exporter": "python",
   "pygments_lexer": "ipython3",
   "version": "3.8.3"
  }
 },
 "nbformat": 4,
 "nbformat_minor": 4
}
